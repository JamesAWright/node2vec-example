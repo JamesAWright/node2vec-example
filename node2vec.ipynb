{
 "cells": [
  {
   "cell_type": "markdown",
   "metadata": {},
   "source": [
    "This notebook accompanies the blog post https://engineering.taboola.com/think-your-data-different."
   ]
  },
  {
   "cell_type": "code",
   "execution_count": 1,
   "metadata": {},
   "outputs": [],
   "source": [
    "import pandas as pd\n",
    "import numpy as np\n",
    "import itertools\n",
    "from sklearn.cluster import KMeans\n",
    "import pprint"
   ]
  },
  {
   "cell_type": "markdown",
   "metadata": {},
   "source": [
    "## 1. Prepare input for node2vec\n",
    "We'll use a CSV file where each row represents a single recommendable item: it contains a comma separated list of the named entities that appear in the item's title."
   ]
  },
  {
   "cell_type": "code",
   "execution_count": 2,
   "metadata": {},
   "outputs": [
    {
     "data": {
      "text/html": [
       "<div>\n",
       "<style>\n",
       "    .dataframe thead tr:only-child th {\n",
       "        text-align: right;\n",
       "    }\n",
       "\n",
       "    .dataframe thead th {\n",
       "        text-align: left;\n",
       "    }\n",
       "\n",
       "    .dataframe tbody tr th {\n",
       "        vertical-align: top;\n",
       "    }\n",
       "</style>\n",
       "<table border=\"1\" class=\"dataframe\">\n",
       "  <thead>\n",
       "    <tr style=\"text-align: right;\">\n",
       "      <th></th>\n",
       "      <th>named_entities</th>\n",
       "    </tr>\n",
       "  </thead>\n",
       "  <tbody>\n",
       "    <tr>\n",
       "      <th>0</th>\n",
       "      <td>CONCEPT-certification mark,CONCEPT-i swear,CON...</td>\n",
       "    </tr>\n",
       "    <tr>\n",
       "      <th>1</th>\n",
       "      <td>CONCEPT-middle school,CONCEPT-gun,CONCEPT-scho...</td>\n",
       "    </tr>\n",
       "    <tr>\n",
       "      <th>2</th>\n",
       "      <td>Facility-rush university medical center,CONCEP...</td>\n",
       "    </tr>\n",
       "    <tr>\n",
       "      <th>3</th>\n",
       "      <td>CONCEPT-web browser</td>\n",
       "    </tr>\n",
       "    <tr>\n",
       "      <th>4</th>\n",
       "      <td>CONCEPT-types of companies,Person-saquon barkl...</td>\n",
       "    </tr>\n",
       "  </tbody>\n",
       "</table>\n",
       "</div>"
      ],
      "text/plain": [
       "                                      named_entities\n",
       "0  CONCEPT-certification mark,CONCEPT-i swear,CON...\n",
       "1  CONCEPT-middle school,CONCEPT-gun,CONCEPT-scho...\n",
       "2  Facility-rush university medical center,CONCEP...\n",
       "3                                CONCEPT-web browser\n",
       "4  CONCEPT-types of companies,Person-saquon barkl..."
      ]
     },
     "execution_count": 2,
     "metadata": {},
     "output_type": "execute_result"
    }
   ],
   "source": [
    "named_entities_df = pd.read_csv('named_entities.csv')\n",
    "named_entities_df.head()"
   ]
  },
  {
   "cell_type": "markdown",
   "metadata": {},
   "source": [
    "First, we'll have to tokenize the named entities, since `node2vec` expects integers."
   ]
  },
  {
   "cell_type": "code",
   "execution_count": 3,
   "metadata": {},
   "outputs": [
    {
     "data": {
      "text/html": [
       "<div>\n",
       "<style>\n",
       "    .dataframe thead tr:only-child th {\n",
       "        text-align: right;\n",
       "    }\n",
       "\n",
       "    .dataframe thead th {\n",
       "        text-align: left;\n",
       "    }\n",
       "\n",
       "    .dataframe tbody tr th {\n",
       "        vertical-align: top;\n",
       "    }\n",
       "</style>\n",
       "<table border=\"1\" class=\"dataframe\">\n",
       "  <thead>\n",
       "    <tr style=\"text-align: right;\">\n",
       "      <th></th>\n",
       "      <th>named_entities</th>\n",
       "    </tr>\n",
       "  </thead>\n",
       "  <tbody>\n",
       "    <tr>\n",
       "      <th>0</th>\n",
       "      <td>[0, 1, 2, 3, 4, 5, 6, 7, 8, 9]</td>\n",
       "    </tr>\n",
       "    <tr>\n",
       "      <th>1</th>\n",
       "      <td>[10, 11, 12, 13, 14, 15, 16, 17, 18, 19, 20, 2...</td>\n",
       "    </tr>\n",
       "    <tr>\n",
       "      <th>2</th>\n",
       "      <td>[28, 29, 30, 31, 32, 33, 34, 35, 36, 37, 38, 3...</td>\n",
       "    </tr>\n",
       "    <tr>\n",
       "      <th>3</th>\n",
       "      <td>[41]</td>\n",
       "    </tr>\n",
       "    <tr>\n",
       "      <th>4</th>\n",
       "      <td>[42, 43, 44, 45, 46, 9]</td>\n",
       "    </tr>\n",
       "  </tbody>\n",
       "</table>\n",
       "</div>"
      ],
      "text/plain": [
       "                                      named_entities\n",
       "0                     [0, 1, 2, 3, 4, 5, 6, 7, 8, 9]\n",
       "1  [10, 11, 12, 13, 14, 15, 16, 17, 18, 19, 20, 2...\n",
       "2  [28, 29, 30, 31, 32, 33, 34, 35, 36, 37, 38, 3...\n",
       "3                                               [41]\n",
       "4                            [42, 43, 44, 45, 46, 9]"
      ]
     },
     "execution_count": 3,
     "metadata": {},
     "output_type": "execute_result"
    }
   ],
   "source": [
    "tokenizer = dict()\n",
    "named_entities_df['named_entities'] = named_entities_df['named_entities'].apply(\n",
    "    lambda named_entities: [tokenizer.setdefault(named_entitie, len(tokenizer))\n",
    "                            for named_entitie in named_entities.split(',')])\n",
    "named_entities_df.head()"
   ]
  },
  {
   "cell_type": "code",
   "execution_count": 4,
   "metadata": {},
   "outputs": [
    {
     "name": "stdout",
     "output_type": "stream",
     "text": [
      "{'CONCEPT-gal gadot': 20918,\n",
      " 'CONCEPT-irish singles chart number one singles': 59693,\n",
      " 'CONCEPT-tarantula': 83904,\n",
      " 'Organization-ohio republican party': 93001,\n",
      " 'Person-billy donovan': 32857}\n"
     ]
    }
   ],
   "source": [
    "pprint.pprint(dict(tokenizer.items()[:5]))"
   ]
  },
  {
   "cell_type": "markdown",
   "metadata": {},
   "source": [
    "In order to construct the graph on which we'll run node2vec, we first need to understand which named entities appear together."
   ]
  },
  {
   "cell_type": "code",
   "execution_count": 5,
   "metadata": {},
   "outputs": [
    {
     "data": {
      "text/html": [
       "<div>\n",
       "<style>\n",
       "    .dataframe thead tr:only-child th {\n",
       "        text-align: right;\n",
       "    }\n",
       "\n",
       "    .dataframe thead th {\n",
       "        text-align: left;\n",
       "    }\n",
       "\n",
       "    .dataframe tbody tr th {\n",
       "        vertical-align: top;\n",
       "    }\n",
       "</style>\n",
       "<table border=\"1\" class=\"dataframe\">\n",
       "  <thead>\n",
       "    <tr style=\"text-align: right;\">\n",
       "      <th></th>\n",
       "      <th>named_entity_1</th>\n",
       "      <th>named_entity_2</th>\n",
       "    </tr>\n",
       "  </thead>\n",
       "  <tbody>\n",
       "    <tr>\n",
       "      <th>0</th>\n",
       "      <td>0</td>\n",
       "      <td>1</td>\n",
       "    </tr>\n",
       "    <tr>\n",
       "      <th>1</th>\n",
       "      <td>0</td>\n",
       "      <td>2</td>\n",
       "    </tr>\n",
       "    <tr>\n",
       "      <th>2</th>\n",
       "      <td>0</td>\n",
       "      <td>3</td>\n",
       "    </tr>\n",
       "    <tr>\n",
       "      <th>3</th>\n",
       "      <td>0</td>\n",
       "      <td>4</td>\n",
       "    </tr>\n",
       "    <tr>\n",
       "      <th>4</th>\n",
       "      <td>0</td>\n",
       "      <td>5</td>\n",
       "    </tr>\n",
       "  </tbody>\n",
       "</table>\n",
       "</div>"
      ],
      "text/plain": [
       "   named_entity_1  named_entity_2\n",
       "0               0               1\n",
       "1               0               2\n",
       "2               0               3\n",
       "3               0               4\n",
       "4               0               5"
      ]
     },
     "execution_count": 5,
     "metadata": {},
     "output_type": "execute_result"
    }
   ],
   "source": [
    "pairs_df = named_entities_df['named_entities'].apply(lambda named_entities: list(itertools.combinations(named_entities, 2)))\n",
    "pairs_df = pairs_df[pairs_df.apply(len) > 0]\n",
    "pairs_df = pd.DataFrame(np.concatenate(pairs_df.values), columns=['named_entity_1', 'named_entity_2'])\n",
    "pairs_df.head()"
   ]
  },
  {
   "cell_type": "markdown",
   "metadata": {},
   "source": [
    "Now we can construct the graph. The weight of an edge connecting two named entities will be the number of times these named entities appear together in our dataset."
   ]
  },
  {
   "cell_type": "code",
   "execution_count": 6,
   "metadata": {},
   "outputs": [
    {
     "data": {
      "text/html": [
       "<div>\n",
       "<style>\n",
       "    .dataframe thead tr:only-child th {\n",
       "        text-align: right;\n",
       "    }\n",
       "\n",
       "    .dataframe thead th {\n",
       "        text-align: left;\n",
       "    }\n",
       "\n",
       "    .dataframe tbody tr th {\n",
       "        vertical-align: top;\n",
       "    }\n",
       "</style>\n",
       "<table border=\"1\" class=\"dataframe\">\n",
       "  <thead>\n",
       "    <tr style=\"text-align: right;\">\n",
       "      <th></th>\n",
       "      <th>named_entity_1</th>\n",
       "      <th>named_entity_2</th>\n",
       "      <th>weight</th>\n",
       "    </tr>\n",
       "  </thead>\n",
       "  <tbody>\n",
       "    <tr>\n",
       "      <th>49</th>\n",
       "      <td>3</td>\n",
       "      <td>9</td>\n",
       "      <td>34</td>\n",
       "    </tr>\n",
       "    <tr>\n",
       "      <th>988</th>\n",
       "      <td>9</td>\n",
       "      <td>41</td>\n",
       "      <td>1142</td>\n",
       "    </tr>\n",
       "    <tr>\n",
       "      <th>1275</th>\n",
       "      <td>11</td>\n",
       "      <td>127</td>\n",
       "      <td>31</td>\n",
       "    </tr>\n",
       "    <tr>\n",
       "      <th>1281</th>\n",
       "      <td>11</td>\n",
       "      <td>134</td>\n",
       "      <td>35</td>\n",
       "    </tr>\n",
       "    <tr>\n",
       "      <th>1290</th>\n",
       "      <td>11</td>\n",
       "      <td>149</td>\n",
       "      <td>61</td>\n",
       "    </tr>\n",
       "  </tbody>\n",
       "</table>\n",
       "</div>"
      ],
      "text/plain": [
       "      named_entity_1  named_entity_2  weight\n",
       "49                 3               9      34\n",
       "988                9              41    1142\n",
       "1275              11             127      31\n",
       "1281              11             134      35\n",
       "1290              11             149      61"
      ]
     },
     "execution_count": 6,
     "metadata": {},
     "output_type": "execute_result"
    }
   ],
   "source": [
    "NAMED_ENTITIES_CO_OCCURENCE_THRESHOLD = 25\n",
    "\n",
    "edges_df = pairs_df.groupby(['named_entity_1', 'named_entity_2']).size().reset_index(name='weight')\n",
    "edges_df = edges_df[edges_df['weight'] > NAMED_ENTITIES_CO_OCCURENCE_THRESHOLD]\n",
    "edges_df[['named_entity_1', 'named_entity_2', 'weight']].to_csv('edges.csv', header=False, index=False, sep=' ')\n",
    "edges_df.head()"
   ]
  },
  {
   "cell_type": "markdown",
   "metadata": {},
   "source": [
    "Next, we'll run `node2vec`, which will output the result embeddings in a file called `emb`.  \n",
    "We'll use the open source implementation developed by [Stanford](https://github.com/snap-stanford/snap/tree/master/examples/node2vec)."
   ]
  },
  {
   "cell_type": "code",
   "execution_count": 7,
   "metadata": {},
   "outputs": [
    {
     "name": "stdout",
     "output_type": "stream",
     "text": [
      "Walk iteration:\n",
      "1 / 10\n",
      "2 / 10\n",
      "3 / 10\n",
      "4 / 10\n",
      "5 / 10\n",
      "6 / 10\n",
      "7 / 10\n",
      "8 / 10\n",
      "9 / 10\n",
      "10 / 10\n"
     ]
    }
   ],
   "source": [
    "!python node2vec/src/main.py --input edges.csv --output emb --weighted"
   ]
  },
  {
   "cell_type": "markdown",
   "metadata": {},
   "source": [
    "## 2. Read embedding and run KMeans clusterring:"
   ]
  },
  {
   "cell_type": "code",
   "execution_count": 8,
   "metadata": {},
   "outputs": [
    {
     "data": {
      "text/html": [
       "<div>\n",
       "<style>\n",
       "    .dataframe thead tr:only-child th {\n",
       "        text-align: right;\n",
       "    }\n",
       "\n",
       "    .dataframe thead th {\n",
       "        text-align: left;\n",
       "    }\n",
       "\n",
       "    .dataframe tbody tr th {\n",
       "        vertical-align: top;\n",
       "    }\n",
       "</style>\n",
       "<table border=\"1\" class=\"dataframe\">\n",
       "  <thead>\n",
       "    <tr style=\"text-align: right;\">\n",
       "      <th></th>\n",
       "      <th>1</th>\n",
       "      <th>2</th>\n",
       "      <th>3</th>\n",
       "      <th>4</th>\n",
       "      <th>5</th>\n",
       "      <th>6</th>\n",
       "      <th>7</th>\n",
       "      <th>8</th>\n",
       "      <th>9</th>\n",
       "      <th>10</th>\n",
       "      <th>...</th>\n",
       "      <th>119</th>\n",
       "      <th>120</th>\n",
       "      <th>121</th>\n",
       "      <th>122</th>\n",
       "      <th>123</th>\n",
       "      <th>124</th>\n",
       "      <th>125</th>\n",
       "      <th>126</th>\n",
       "      <th>127</th>\n",
       "      <th>128</th>\n",
       "    </tr>\n",
       "    <tr>\n",
       "      <th>named_entity</th>\n",
       "      <th></th>\n",
       "      <th></th>\n",
       "      <th></th>\n",
       "      <th></th>\n",
       "      <th></th>\n",
       "      <th></th>\n",
       "      <th></th>\n",
       "      <th></th>\n",
       "      <th></th>\n",
       "      <th></th>\n",
       "      <th></th>\n",
       "      <th></th>\n",
       "      <th></th>\n",
       "      <th></th>\n",
       "      <th></th>\n",
       "      <th></th>\n",
       "      <th></th>\n",
       "      <th></th>\n",
       "      <th></th>\n",
       "      <th></th>\n",
       "      <th></th>\n",
       "    </tr>\n",
       "  </thead>\n",
       "  <tbody>\n",
       "    <tr>\n",
       "      <th>45</th>\n",
       "      <td>0.193684</td>\n",
       "      <td>0.199515</td>\n",
       "      <td>-0.558070</td>\n",
       "      <td>0.193501</td>\n",
       "      <td>-0.151151</td>\n",
       "      <td>-0.108368</td>\n",
       "      <td>-0.080395</td>\n",
       "      <td>0.483877</td>\n",
       "      <td>-0.216687</td>\n",
       "      <td>-0.027689</td>\n",
       "      <td>...</td>\n",
       "      <td>-0.020264</td>\n",
       "      <td>-0.219160</td>\n",
       "      <td>-0.006211</td>\n",
       "      <td>-0.116050</td>\n",
       "      <td>-0.208311</td>\n",
       "      <td>-0.238917</td>\n",
       "      <td>0.416022</td>\n",
       "      <td>-0.069208</td>\n",
       "      <td>0.382213</td>\n",
       "      <td>-0.198407</td>\n",
       "    </tr>\n",
       "    <tr>\n",
       "      <th>41</th>\n",
       "      <td>0.116208</td>\n",
       "      <td>-0.013772</td>\n",
       "      <td>0.270675</td>\n",
       "      <td>0.227480</td>\n",
       "      <td>-0.123978</td>\n",
       "      <td>-0.076915</td>\n",
       "      <td>-0.080015</td>\n",
       "      <td>0.338822</td>\n",
       "      <td>0.007791</td>\n",
       "      <td>-0.028516</td>\n",
       "      <td>...</td>\n",
       "      <td>-0.250689</td>\n",
       "      <td>-0.219996</td>\n",
       "      <td>-0.346024</td>\n",
       "      <td>0.006914</td>\n",
       "      <td>-0.185476</td>\n",
       "      <td>0.099120</td>\n",
       "      <td>0.231357</td>\n",
       "      <td>0.326392</td>\n",
       "      <td>0.197053</td>\n",
       "      <td>-0.103405</td>\n",
       "    </tr>\n",
       "    <tr>\n",
       "      <th>478</th>\n",
       "      <td>0.326508</td>\n",
       "      <td>-0.080868</td>\n",
       "      <td>-0.534134</td>\n",
       "      <td>0.137786</td>\n",
       "      <td>-0.262377</td>\n",
       "      <td>-0.071972</td>\n",
       "      <td>-0.187409</td>\n",
       "      <td>0.533022</td>\n",
       "      <td>-0.314909</td>\n",
       "      <td>-0.019874</td>\n",
       "      <td>...</td>\n",
       "      <td>-0.160482</td>\n",
       "      <td>-0.192272</td>\n",
       "      <td>-0.132486</td>\n",
       "      <td>-0.058005</td>\n",
       "      <td>-0.182971</td>\n",
       "      <td>-0.201600</td>\n",
       "      <td>0.317926</td>\n",
       "      <td>0.059988</td>\n",
       "      <td>0.380023</td>\n",
       "      <td>-0.127033</td>\n",
       "    </tr>\n",
       "    <tr>\n",
       "      <th>88</th>\n",
       "      <td>-0.053936</td>\n",
       "      <td>-0.098514</td>\n",
       "      <td>-0.116975</td>\n",
       "      <td>0.194783</td>\n",
       "      <td>-0.127855</td>\n",
       "      <td>0.310879</td>\n",
       "      <td>-0.050054</td>\n",
       "      <td>-0.002542</td>\n",
       "      <td>0.094705</td>\n",
       "      <td>-0.104536</td>\n",
       "      <td>...</td>\n",
       "      <td>0.025011</td>\n",
       "      <td>-0.357876</td>\n",
       "      <td>-0.238409</td>\n",
       "      <td>0.247654</td>\n",
       "      <td>0.082463</td>\n",
       "      <td>-0.147044</td>\n",
       "      <td>0.153850</td>\n",
       "      <td>-0.535327</td>\n",
       "      <td>-0.435655</td>\n",
       "      <td>0.259705</td>\n",
       "    </tr>\n",
       "    <tr>\n",
       "      <th>83</th>\n",
       "      <td>0.013028</td>\n",
       "      <td>-0.122749</td>\n",
       "      <td>-0.029661</td>\n",
       "      <td>0.059336</td>\n",
       "      <td>-0.258743</td>\n",
       "      <td>0.397353</td>\n",
       "      <td>-0.082249</td>\n",
       "      <td>0.078653</td>\n",
       "      <td>0.102366</td>\n",
       "      <td>0.091354</td>\n",
       "      <td>...</td>\n",
       "      <td>0.141847</td>\n",
       "      <td>-0.456273</td>\n",
       "      <td>-0.119102</td>\n",
       "      <td>0.301741</td>\n",
       "      <td>0.072765</td>\n",
       "      <td>-0.035528</td>\n",
       "      <td>0.042997</td>\n",
       "      <td>-0.511059</td>\n",
       "      <td>-0.263644</td>\n",
       "      <td>0.366281</td>\n",
       "    </tr>\n",
       "  </tbody>\n",
       "</table>\n",
       "<p>5 rows × 128 columns</p>\n",
       "</div>"
      ],
      "text/plain": [
       "                   1         2         3         4         5         6    \\\n",
       "named_entity                                                               \n",
       "45            0.193684  0.199515 -0.558070  0.193501 -0.151151 -0.108368   \n",
       "41            0.116208 -0.013772  0.270675  0.227480 -0.123978 -0.076915   \n",
       "478           0.326508 -0.080868 -0.534134  0.137786 -0.262377 -0.071972   \n",
       "88           -0.053936 -0.098514 -0.116975  0.194783 -0.127855  0.310879   \n",
       "83            0.013028 -0.122749 -0.029661  0.059336 -0.258743  0.397353   \n",
       "\n",
       "                   7         8         9         10     ...          119  \\\n",
       "named_entity                                            ...                \n",
       "45           -0.080395  0.483877 -0.216687 -0.027689    ...    -0.020264   \n",
       "41           -0.080015  0.338822  0.007791 -0.028516    ...    -0.250689   \n",
       "478          -0.187409  0.533022 -0.314909 -0.019874    ...    -0.160482   \n",
       "88           -0.050054 -0.002542  0.094705 -0.104536    ...     0.025011   \n",
       "83           -0.082249  0.078653  0.102366  0.091354    ...     0.141847   \n",
       "\n",
       "                   120       121       122       123       124       125  \\\n",
       "named_entity                                                               \n",
       "45           -0.219160 -0.006211 -0.116050 -0.208311 -0.238917  0.416022   \n",
       "41           -0.219996 -0.346024  0.006914 -0.185476  0.099120  0.231357   \n",
       "478          -0.192272 -0.132486 -0.058005 -0.182971 -0.201600  0.317926   \n",
       "88           -0.357876 -0.238409  0.247654  0.082463 -0.147044  0.153850   \n",
       "83           -0.456273 -0.119102  0.301741  0.072765 -0.035528  0.042997   \n",
       "\n",
       "                   126       127       128  \n",
       "named_entity                                \n",
       "45           -0.069208  0.382213 -0.198407  \n",
       "41            0.326392  0.197053 -0.103405  \n",
       "478           0.059988  0.380023 -0.127033  \n",
       "88           -0.535327 -0.435655  0.259705  \n",
       "83           -0.511059 -0.263644  0.366281  \n",
       "\n",
       "[5 rows x 128 columns]"
      ]
     },
     "execution_count": 8,
     "metadata": {},
     "output_type": "execute_result"
    }
   ],
   "source": [
    "emb_df = pd.read_csv('emb', sep=' ', skiprows=[0], header=None)\n",
    "emb_df.set_index(0, inplace=True)\n",
    "emb_df.index.name = 'named_entity'\n",
    "emb_df.head()"
   ]
  },
  {
   "cell_type": "markdown",
   "metadata": {},
   "source": [
    "Each column is a dimension in the embedding space. Each row contains the dimensions of the embedding of one named entity.  \n",
    "We'll now cluster the embeddings using a simple clustering algorithm such as k-means."
   ]
  },
  {
   "cell_type": "code",
   "execution_count": 9,
   "metadata": {},
   "outputs": [
    {
     "data": {
      "text/html": [
       "<div>\n",
       "<style>\n",
       "    .dataframe thead tr:only-child th {\n",
       "        text-align: right;\n",
       "    }\n",
       "\n",
       "    .dataframe thead th {\n",
       "        text-align: left;\n",
       "    }\n",
       "\n",
       "    .dataframe tbody tr th {\n",
       "        vertical-align: top;\n",
       "    }\n",
       "</style>\n",
       "<table border=\"1\" class=\"dataframe\">\n",
       "  <thead>\n",
       "    <tr style=\"text-align: right;\">\n",
       "      <th></th>\n",
       "      <th>named_entity</th>\n",
       "      <th>cluster</th>\n",
       "    </tr>\n",
       "  </thead>\n",
       "  <tbody>\n",
       "    <tr>\n",
       "      <th>0</th>\n",
       "      <td>45</td>\n",
       "      <td>2</td>\n",
       "    </tr>\n",
       "    <tr>\n",
       "      <th>1</th>\n",
       "      <td>41</td>\n",
       "      <td>3</td>\n",
       "    </tr>\n",
       "    <tr>\n",
       "      <th>2</th>\n",
       "      <td>478</td>\n",
       "      <td>2</td>\n",
       "    </tr>\n",
       "    <tr>\n",
       "      <th>3</th>\n",
       "      <td>88</td>\n",
       "      <td>1</td>\n",
       "    </tr>\n",
       "    <tr>\n",
       "      <th>4</th>\n",
       "      <td>83</td>\n",
       "      <td>1</td>\n",
       "    </tr>\n",
       "  </tbody>\n",
       "</table>\n",
       "</div>"
      ],
      "text/plain": [
       "   named_entity  cluster\n",
       "0            45        2\n",
       "1            41        3\n",
       "2           478        2\n",
       "3            88        1\n",
       "4            83        1"
      ]
     },
     "execution_count": 9,
     "metadata": {},
     "output_type": "execute_result"
    }
   ],
   "source": [
    "NUM_CLUSTERS = 10\n",
    "\n",
    "kmeans = KMeans(n_clusters=NUM_CLUSTERS)\n",
    "kmeans.fit(emb_df)\n",
    "labels = kmeans.predict(emb_df)\n",
    "emb_df['cluster'] = labels\n",
    "clusters_df = emb_df.reset_index()[['named_entity','cluster']]\n",
    "clusters_df.head()"
   ]
  },
  {
   "cell_type": "markdown",
   "metadata": {},
   "source": [
    "## 3. Prepare input for Gephi:"
   ]
  },
  {
   "cell_type": "markdown",
   "metadata": {},
   "source": [
    "[Gephi](https://gephi.org) is a nice visualization tool for graphical data.  \n",
    "We'll output our data into a format recognizable by Gephi."
   ]
  },
  {
   "cell_type": "code",
   "execution_count": 10,
   "metadata": {
    "collapsed": true
   },
   "outputs": [],
   "source": [
    "id_to_named_entity = {named_entity_id: named_entity\n",
    "                      for named_entity, named_entity_id in tokenizer.items()}\n",
    "\n",
    "with open('clusters.gdf', 'w') as f:\n",
    "    f.write('nodedef>name VARCHAR,cluster_id VARCHAR,label VARCHAR\\n')\n",
    "    for index, row in clusters_df.iterrows():\n",
    "        f.write('{},{},{}\\n'.format(row['named_entity'], row['cluster'], id_to_named_entity[row['named_entity']]))\n",
    "    f.write('edgedef>node1 VARCHAR,node2 VARCHAR, weight DOUBLE\\n')\n",
    "    for index, row in edges_df.iterrows(): \n",
    "        f.write('{},{},{}\\n'.format(row['named_entity_1'], row['named_entity_2'], row['weight']))"
   ]
  },
  {
   "cell_type": "markdown",
   "metadata": {},
   "source": [
    "Finally, we can open `clusters.gdf` using Gephi in order to inspect the clusters."
   ]
  }
 ],
 "metadata": {
  "kernelspec": {
   "display_name": "Python 2",
   "language": "python",
   "name": "python2"
  },
  "language_info": {
   "codemirror_mode": {
    "name": "ipython",
    "version": 2
   },
   "file_extension": ".py",
   "mimetype": "text/x-python",
   "name": "python",
   "nbconvert_exporter": "python",
   "pygments_lexer": "ipython2",
   "version": "2.7.13"
  }
 },
 "nbformat": 4,
 "nbformat_minor": 2
}
